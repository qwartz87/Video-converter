{
 "cells": [
  {
   "cell_type": "markdown",
   "metadata": {},
   "source": [
    "Without subtitles"
   ]
  },
  {
   "cell_type": "code",
   "execution_count": null,
   "metadata": {},
   "outputs": [],
   "source": [
    "import subprocess\n",
    "\n",
    "def convert_video(input_file, output_file):\n",
    "    \"\"\"\n",
    "    Convert a video to H.264 High Profile Level 4.1 with YUV420p pixel format, 1920x1080 resolution, FPS 25, and 2263 kbps bitrate.\n",
    "    \n",
    "    Args:\n",
    "        input_file (str): Path to the input video file.\n",
    "        output_file (str): Path to the output video file.\n",
    "    \"\"\"\n",
    "    try:\n",
    "        command = [\n",
    "            \"ffmpeg\",\n",
    "            \"-i\", input_file,                # Input file\n",
    "            \"-c:v\", \"libx264\",               # H.264 codec\n",
    "            \"-profile:v\", \"high\",            # H.264 High profile\n",
    "            \"-level:v\", \"4.1\",               # H.264 Level 4.1\n",
    "            \"-pix_fmt\", \"yuv420p\",           # Pixel format: YUV420p\n",
    "            \"-vf\", \"scale=1920:1080,fps=25\", # Scale to 1920x1080 resolution\n",
    "            \"-b:v\", \"2263k\",                 # Video bitrate: 2263 kbps\n",
    "            \"-c:a\", \"aac\",                   # Audio codec: AAC\n",
    "            \"-b:a\", \"128k\",                  # Audio bitrate: 128 kbps\n",
    "            \"-movflags\", \"+faststart\",       # Optimize for streaming\n",
    "            output_file                      # Output file\n",
    "        ]\n",
    "        subprocess.run(command, check=True)\n",
    "        print(f\"Video successfully converted and saved to: {output_file}\")\n",
    "    except subprocess.CalledProcessError as e:\n",
    "        print(f\"Error during video conversion: {e}\")\n",
    "    except FileNotFoundError:\n",
    "        print(\"FFmpeg is not installed or not found in PATH. Please install it.\")\n",
    "\n",
    "# Example usage\n",
    "input_video = \"input.mp4\"       # Replace with your input video path\n",
    "output_video = \"output.mp4\"     # Replace with your desired output path\n",
    "\n",
    "convert_video(input_video, output_video)\n"
   ]
  },
  {
   "cell_type": "markdown",
   "metadata": {},
   "source": [
    "With subtitles"
   ]
  },
  {
   "cell_type": "code",
   "execution_count": null,
   "metadata": {},
   "outputs": [],
   "source": [
    "import subprocess\n",
    "\n",
    "def convert_video_with_subtitles(input_file, subtitle_file, output_file):\n",
    "    \"\"\"\n",
    "    Convert a video to H.264 High Profile Level 4.1 with YUV420p pixel format, 1920x1080 resolution,\n",
    "    2263 kbps bitrate, FPS 25, and overlay subtitles from an .srt file.\n",
    "    \n",
    "    Args:\n",
    "        input_file (str): Path to the input video file.\n",
    "        subtitle_file (str): Path to the subtitle .srt file.\n",
    "        output_file (str): Path to the output video file.\n",
    "    \"\"\"\n",
    "    try:\n",
    "        command = [\n",
    "            \"ffmpeg\",\n",
    "            \"-i\", input_file,                # Input file\n",
    "            \"-vf\", f\"subtitles={subtitle_file}:charenc=UTF-8'\",  # Subtitle filter\n",
    "            \"-c:v\", \"libx264\",               # H.264 codec\n",
    "            \"-profile:v\", \"high\",            # H.264 High profile\n",
    "            \"-level:v\", \"4.1\",               # H.264 Level 4.1\n",
    "            \"-pix_fmt\", \"yuv420p\",           # Pixel format: YUV420p\n",
    "            \"-vf\", \"scale=1920:1080,fps=25\", # Scale to 1920x1080 resolution\n",
    "            \"-b:v\", \"2263k\",                 # Video bitrate: 2263 kbps\n",
    "            \"-c:a\", \"aac\",                   # Audio codec: AAC\n",
    "            \"-b:a\", \"128k\",                  # Audio bitrate: 128 kbps\n",
    "            \"-movflags\", \"+faststart\",       # Optimize for streaming\n",
    "            output_file                      # Output file\n",
    "        ]\n",
    "        subprocess.run(command, check=True)\n",
    "        print(f\"Video successfully converted with subtitles and saved to: {output_file}\")\n",
    "    except subprocess.CalledProcessError as e:\n",
    "        print(f\"Error during video conversion: {e}\")\n",
    "    except FileNotFoundError:\n",
    "        print(\"FFmpeg is not installed or not found in PATH. Please install it.\")\n",
    "\n",
    "# Example usage\n",
    "input_video = \"input.mp4\"         # Replace with your input video path\n",
    "subtitle_file = \"output.srt\"   # Replace with your subtitle file path\n",
    "output_video = \"output_with_subs.mp4\"  # Replace with your desired output path\n",
    "\n",
    "convert_video_with_subtitles(input_video, subtitle_file, output_video)\n"
   ]
  }
 ],
 "metadata": {
  "kernelspec": {
   "display_name": "ML_env",
   "language": "python",
   "name": "python3"
  },
  "language_info": {
   "codemirror_mode": {
    "name": "ipython",
    "version": 3
   },
   "file_extension": ".py",
   "mimetype": "text/x-python",
   "name": "python",
   "nbconvert_exporter": "python",
   "pygments_lexer": "ipython3",
   "version": "3.12.7"
  }
 },
 "nbformat": 4,
 "nbformat_minor": 2
}
